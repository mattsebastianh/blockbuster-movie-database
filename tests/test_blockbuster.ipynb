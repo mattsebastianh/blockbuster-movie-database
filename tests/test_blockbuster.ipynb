{
 "cells": [
  {
   "cell_type": "code",
   "execution_count": 15,
   "id": "c8c549ff",
   "metadata": {},
   "outputs": [
    {
     "name": "stdout",
     "output_type": "stream",
     "text": [
      "John Doe borrowed 'The Shawshank Redemption'\n",
      "John Doe borrowed 'The Dark Knight'\n",
      "Jane Doe borrowed 'The Godfather'\n",
      "Blockbuster Movie Database: {'The Shawshank Redemption': {'year': 1994, 'runtime': 142}, 'The Godfather': {'year': 1972, 'runtime': 175}, 'The Dark Knight': {'year': 2008, 'runtime': 152}}\n",
      "User John Doe id_21 has borrowed 2 movies\n",
      "User Jane Doe id_22 has borrowed 1 movies\n",
      "['The Shawshank Redemption', 'The Dark Knight']\n",
      "['The Godfather']\n"
     ]
    }
   ],
   "source": [
    "# TEST blockbuster.py\n",
    "import sys\n",
    "sys.path.append('..')\n",
    "from blockbuster import Blockbuster, Movie, User\n",
    "\n",
    "blockbuster = Blockbuster()\n",
    "\n",
    "movie1 = Movie(\"The Shawshank Redemption\", 1994, 142)\n",
    "movie2 = Movie(\"The Godfather\", 1972, 175)\n",
    "movie3 = Movie(\"The Dark Knight\", 2008, 152)\n",
    "\n",
    "blockbuster.add_movie(movie1)\n",
    "blockbuster.add_movie(movie2)\n",
    "blockbuster.add_movie(movie3)\n",
    "\n",
    "user1 = User(\"John Doe\")\n",
    "user2 = User(\"Jane Doe\")\n",
    "\n",
    "user1.borrow_movie(blockbuster, \"The Shawshank Redemption\")\n",
    "user1.borrow_movie(blockbuster, \"The Dark Knight\")\n",
    "user2.borrow_movie(blockbuster, \"The Godfather\")\n",
    "\n",
    "print(blockbuster)\n",
    "print(user1)\n",
    "print(user2)\n",
    "print(user1.movie_borrow)\n",
    "print(user2.movie_borrow)"
   ]
  }
 ],
 "metadata": {
  "kernelspec": {
   "display_name": "py313",
   "language": "python",
   "name": "python3"
  },
  "language_info": {
   "codemirror_mode": {
    "name": "ipython",
    "version": 3
   },
   "file_extension": ".py",
   "mimetype": "text/x-python",
   "name": "python",
   "nbconvert_exporter": "python",
   "pygments_lexer": "ipython3",
   "version": "3.13.3"
  }
 },
 "nbformat": 4,
 "nbformat_minor": 5
}
